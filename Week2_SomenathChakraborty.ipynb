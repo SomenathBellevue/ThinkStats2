{
 "cells": [
  {
   "cell_type": "code",
   "execution_count": 2,
   "id": "068703c3",
   "metadata": {},
   "outputs": [
    {
     "name": "stdout",
     "output_type": "stream",
     "text": [
      "Hello World! I wonder why that is always the default coding text to start with\n",
      "\n",
      "\n",
      "Sum of two numbers:  10\n",
      "Difference of two numbers:  7\n",
      "Product of two numbers:  15\n",
      "Division result of two numbers:  5\n",
      "\n",
      "\n",
      "String 1: Somenath\n",
      "string 2: Chakraborty\n",
      "Concatenated strings:  SomenathChakraborty\n",
      "\n",
      "\n",
      "Values in List:  [3, 5.6, 'TEST', 'This Works!']\n",
      "Appended additional value in List:  [3, 5.6, 'TEST', 'This Works!', 'new entry']\n",
      "\n",
      "\n",
      "Output of Tuple:  (8, 6.7, 3.4, 'This is Great')\n"
     ]
    }
   ],
   "source": [
    "# DSC530-T301 Data Exploration and Analysis \n",
    "# Week 2\n",
    "# 2.1 Exercise\n",
    "# Author Somenath Chakraborty\n",
    "# 12/06/2021\n",
    "\n",
    "# Display the text “Hello World! I wonder why that is always the default coding text to start with”\n",
    "print(\"Hello World! I wonder why that is always the default coding text to start with\")\n",
    "\n",
    "print(\"\\n\") # new line for spacing and formatting purposes\n",
    "# Add two numbers together\n",
    "sum = int(8+2)\n",
    "print(\"Sum of two numbers: \", sum)\n",
    "\n",
    "\n",
    "# Subtract a number from another number\n",
    "subtract = int(9-2)\n",
    "print(\"Difference of two numbers: \", subtract)\n",
    "\n",
    "\n",
    "# Multiply two numbers\n",
    "multiply = int(5 * 3)\n",
    "print(\"Product of two numbers: \", multiply)\n",
    "\n",
    "\n",
    "# Divide between two numbers\n",
    "divide = int(25/5)\n",
    "print(\"Division result of two numbers: \", divide)\n",
    "\n",
    "print(\"\\n\") # new line for spacing and formatting purposes\n",
    "# Concatenate two strings together (any words)\n",
    "string1 = \"Somenath\"\n",
    "string2 = \"Chakraborty\"\n",
    "print(\"String 1:\", string1)\n",
    "print(\"string 2:\", string2)\n",
    "str = string1 + string2\n",
    "print(\"Concatenated strings: \", str)\n",
    "\n",
    "print(\"\\n\") # new line for spacing and formatting purposes\n",
    "# Create a list of 4 items (can be strings, numbers, both)\n",
    "my_list = [3, 5.6, \"TEST\", \"This Works!\"]\n",
    "print(\"Values in List: \", my_list)\n",
    "\n",
    "# Append an item to your list (again, can be a string, number)\n",
    "my_list.append(\"new entry\")\n",
    "print(\"Appended additional value in List: \", my_list)\n",
    "\n",
    "print(\"\\n\") # new line for spacing and formatting purposes\n",
    "# Create a tuple with 4 items (can be strings, numbers, both)\n",
    "my_tuple = (8, 6.7, 3.4, \"This is Great\")\n",
    "print(\"Output of Tuple: \", my_tuple)"
   ]
  },
  {
   "cell_type": "code",
   "execution_count": null,
   "id": "62e17397",
   "metadata": {},
   "outputs": [],
   "source": []
  }
 ],
 "metadata": {
  "kernelspec": {
   "display_name": "Python 3 (ipykernel)",
   "language": "python",
   "name": "python3"
  },
  "language_info": {
   "codemirror_mode": {
    "name": "ipython",
    "version": 3
   },
   "file_extension": ".py",
   "mimetype": "text/x-python",
   "name": "python",
   "nbconvert_exporter": "python",
   "pygments_lexer": "ipython3",
   "version": "3.9.7"
  }
 },
 "nbformat": 4,
 "nbformat_minor": 5
}
